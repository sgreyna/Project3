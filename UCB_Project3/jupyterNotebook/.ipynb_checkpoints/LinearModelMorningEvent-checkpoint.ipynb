{
 "cells": [
  {
   "cell_type": "code",
   "execution_count": 1,
   "metadata": {},
   "outputs": [
    {
     "data": {
      "text/html": [
       "<div>\n",
       "<style scoped>\n",
       "    .dataframe tbody tr th:only-of-type {\n",
       "        vertical-align: middle;\n",
       "    }\n",
       "\n",
       "    .dataframe tbody tr th {\n",
       "        vertical-align: top;\n",
       "    }\n",
       "\n",
       "    .dataframe thead th {\n",
       "        text-align: right;\n",
       "    }\n",
       "</style>\n",
       "<table border=\"1\" class=\"dataframe\">\n",
       "  <thead>\n",
       "    <tr style=\"text-align: right;\">\n",
       "      <th></th>\n",
       "      <th>Draw Date</th>\n",
       "      <th>Draw Schedule</th>\n",
       "      <th>First Number</th>\n",
       "      <th>Second Number</th>\n",
       "      <th>Third Number</th>\n",
       "    </tr>\n",
       "  </thead>\n",
       "  <tbody>\n",
       "    <tr>\n",
       "      <th>0</th>\n",
       "      <td>7/9/2019</td>\n",
       "      <td>Morning</td>\n",
       "      <td>8</td>\n",
       "      <td>1</td>\n",
       "      <td>3</td>\n",
       "    </tr>\n",
       "    <tr>\n",
       "      <th>1</th>\n",
       "      <td>7/9/2019</td>\n",
       "      <td>Evening</td>\n",
       "      <td>2</td>\n",
       "      <td>3</td>\n",
       "      <td>0</td>\n",
       "    </tr>\n",
       "    <tr>\n",
       "      <th>2</th>\n",
       "      <td>7/10/2019</td>\n",
       "      <td>Morning</td>\n",
       "      <td>9</td>\n",
       "      <td>9</td>\n",
       "      <td>5</td>\n",
       "    </tr>\n",
       "    <tr>\n",
       "      <th>3</th>\n",
       "      <td>7/10/2019</td>\n",
       "      <td>Evening</td>\n",
       "      <td>2</td>\n",
       "      <td>3</td>\n",
       "      <td>2</td>\n",
       "    </tr>\n",
       "    <tr>\n",
       "      <th>4</th>\n",
       "      <td>7/11/2019</td>\n",
       "      <td>Morning</td>\n",
       "      <td>4</td>\n",
       "      <td>3</td>\n",
       "      <td>2</td>\n",
       "    </tr>\n",
       "  </tbody>\n",
       "</table>\n",
       "</div>"
      ],
      "text/plain": [
       "   Draw Date Draw Schedule  First Number  Second Number  Third Number\n",
       "0   7/9/2019       Morning             8              1             3\n",
       "1   7/9/2019       Evening             2              3             0\n",
       "2  7/10/2019       Morning             9              9             5\n",
       "3  7/10/2019       Evening             2              3             2\n",
       "4  7/11/2019       Morning             4              3             2"
      ]
     },
     "execution_count": 1,
     "metadata": {},
     "output_type": "execute_result"
    }
   ],
   "source": [
    "import pandas as pd\n",
    "from numpy import array\n",
    "import matplotlib.pyplot as plt\n",
    "#import dailyData\n",
    "datadf = pd.read_csv(\"../dailyData/dailyData.csv\") \n",
    "#create a column and concatenate all 3 numbers\n",
    "datadf.head()"
   ]
  },
  {
   "cell_type": "code",
   "execution_count": 2,
   "metadata": {},
   "outputs": [
    {
     "data": {
      "text/html": [
       "<div>\n",
       "<style scoped>\n",
       "    .dataframe tbody tr th:only-of-type {\n",
       "        vertical-align: middle;\n",
       "    }\n",
       "\n",
       "    .dataframe tbody tr th {\n",
       "        vertical-align: top;\n",
       "    }\n",
       "\n",
       "    .dataframe thead th {\n",
       "        text-align: right;\n",
       "    }\n",
       "</style>\n",
       "<table border=\"1\" class=\"dataframe\">\n",
       "  <thead>\n",
       "    <tr style=\"text-align: right;\">\n",
       "      <th></th>\n",
       "      <th>Draw Schedule</th>\n",
       "      <th>lottoNum</th>\n",
       "      <th>lottoX</th>\n",
       "      <th>lottoX1</th>\n",
       "      <th>lottoX2</th>\n",
       "      <th>lottoX3</th>\n",
       "      <th>lottoX4</th>\n",
       "      <th>lottoX5</th>\n",
       "      <th>lottoX6</th>\n",
       "      <th>lottoX7</th>\n",
       "      <th>lottoX8</th>\n",
       "      <th>lottoX9</th>\n",
       "    </tr>\n",
       "  </thead>\n",
       "  <tbody>\n",
       "    <tr>\n",
       "      <th>0</th>\n",
       "      <td>Morning</td>\n",
       "      <td>813</td>\n",
       "      <td>230</td>\n",
       "      <td>995</td>\n",
       "      <td>232</td>\n",
       "      <td>432</td>\n",
       "      <td>362</td>\n",
       "      <td>422</td>\n",
       "      <td>510</td>\n",
       "      <td>136</td>\n",
       "      <td>124</td>\n",
       "      <td>954</td>\n",
       "    </tr>\n",
       "    <tr>\n",
       "      <th>1</th>\n",
       "      <td>Evening</td>\n",
       "      <td>230</td>\n",
       "      <td>995</td>\n",
       "      <td>232</td>\n",
       "      <td>432</td>\n",
       "      <td>362</td>\n",
       "      <td>422</td>\n",
       "      <td>510</td>\n",
       "      <td>136</td>\n",
       "      <td>124</td>\n",
       "      <td>954</td>\n",
       "      <td>318</td>\n",
       "    </tr>\n",
       "    <tr>\n",
       "      <th>2</th>\n",
       "      <td>Morning</td>\n",
       "      <td>995</td>\n",
       "      <td>232</td>\n",
       "      <td>432</td>\n",
       "      <td>362</td>\n",
       "      <td>422</td>\n",
       "      <td>510</td>\n",
       "      <td>136</td>\n",
       "      <td>124</td>\n",
       "      <td>954</td>\n",
       "      <td>318</td>\n",
       "      <td>773</td>\n",
       "    </tr>\n",
       "    <tr>\n",
       "      <th>3</th>\n",
       "      <td>Evening</td>\n",
       "      <td>232</td>\n",
       "      <td>432</td>\n",
       "      <td>362</td>\n",
       "      <td>422</td>\n",
       "      <td>510</td>\n",
       "      <td>136</td>\n",
       "      <td>124</td>\n",
       "      <td>954</td>\n",
       "      <td>318</td>\n",
       "      <td>773</td>\n",
       "      <td>961</td>\n",
       "    </tr>\n",
       "    <tr>\n",
       "      <th>4</th>\n",
       "      <td>Morning</td>\n",
       "      <td>432</td>\n",
       "      <td>362</td>\n",
       "      <td>422</td>\n",
       "      <td>510</td>\n",
       "      <td>136</td>\n",
       "      <td>124</td>\n",
       "      <td>954</td>\n",
       "      <td>318</td>\n",
       "      <td>773</td>\n",
       "      <td>961</td>\n",
       "      <td>672</td>\n",
       "    </tr>\n",
       "  </tbody>\n",
       "</table>\n",
       "</div>"
      ],
      "text/plain": [
       "  Draw Schedule lottoNum lottoX lottoX1 lottoX2 lottoX3 lottoX4 lottoX5  \\\n",
       "0       Morning      813    230     995     232     432     362     422   \n",
       "1       Evening      230    995     232     432     362     422     510   \n",
       "2       Morning      995    232     432     362     422     510     136   \n",
       "3       Evening      232    432     362     422     510     136     124   \n",
       "4       Morning      432    362     422     510     136     124     954   \n",
       "\n",
       "  lottoX6 lottoX7 lottoX8 lottoX9  \n",
       "0     510     136     124     954  \n",
       "1     136     124     954     318  \n",
       "2     124     954     318     773  \n",
       "3     954     318     773     961  \n",
       "4     318     773     961     672  "
      ]
     },
     "execution_count": 2,
     "metadata": {},
     "output_type": "execute_result"
    }
   ],
   "source": [
    "datadf['lottoNum'] = datadf['First Number'].astype(str) +  datadf['Second Number'].astype(str) +  datadf['Third Number'].astype(str) \n",
    "datadf['lottoX'] = datadf['lottoNum'].shift(-1)\n",
    "datadf['lottoX1'] = datadf['lottoX'].shift(-1)\n",
    "datadf['lottoX2'] = datadf['lottoX1'].shift(-1)\n",
    "datadf['lottoX3'] = datadf['lottoX2'].shift(-1)\n",
    "datadf['lottoX4'] = datadf['lottoX3'].shift(-1)\n",
    "datadf['lottoX5'] = datadf['lottoX4'].shift(-1)\n",
    "datadf['lottoX6'] = datadf['lottoX5'].shift(-1)\n",
    "datadf['lottoX7'] = datadf['lottoX6'].shift(-1)\n",
    "datadf['lottoX8'] = datadf['lottoX7'].shift(-1)\n",
    "datadf['lottoX9'] = datadf['lottoX8'].shift(-1)\n",
    "datadf = datadf.drop('Draw Date', axis=1)\n",
    "datadf = datadf.drop('First Number', axis=1)\n",
    "datadf = datadf.drop('Second Number', axis=1)\n",
    "datadf = datadf.drop('Third Number', axis=1)\n",
    "datadf = datadf.dropna()\n",
    "datadf.head()"
   ]
  },
  {
   "cell_type": "code",
   "execution_count": 3,
   "metadata": {},
   "outputs": [],
   "source": [
    "datadf['lottoNum'] = datadf['lottoNum'].astype(int)\n",
    "datadf['lottoX'] = datadf['lottoX'].astype(int)\n",
    "datadf['lottoX1'] = datadf['lottoX1'].astype(int)\n",
    "datadf['lottoX2'] = datadf['lottoX2'].astype(int)\n",
    "datadf['lottoX3'] = datadf['lottoX3'].astype(int)\n",
    "datadf['lottoX4'] = datadf['lottoX4'].astype(int)\n",
    "datadf['lottoX5'] = datadf['lottoX5'].astype(int)\n",
    "datadf['lottoX6'] = datadf['lottoX6'].astype(int)\n",
    "datadf['lottoX7'] = datadf['lottoX7'].astype(int)\n",
    "datadf['lottoX8'] = datadf['lottoX8'].astype(int)\n",
    "datadf['lottoX9'] = datadf['lottoX9'].astype(int)"
   ]
  },
  {
   "cell_type": "code",
   "execution_count": 4,
   "metadata": {},
   "outputs": [
    {
     "data": {
      "text/plain": [
       "Draw Schedule    object\n",
       "lottoNum          int32\n",
       "lottoX            int32\n",
       "lottoX1           int32\n",
       "lottoX2           int32\n",
       "lottoX3           int32\n",
       "lottoX4           int32\n",
       "lottoX5           int32\n",
       "lottoX6           int32\n",
       "lottoX7           int32\n",
       "lottoX8           int32\n",
       "lottoX9           int32\n",
       "dtype: object"
      ]
     },
     "execution_count": 4,
     "metadata": {},
     "output_type": "execute_result"
    }
   ],
   "source": [
    "datadf.dtypes"
   ]
  },
  {
   "cell_type": "code",
   "execution_count": 5,
   "metadata": {},
   "outputs": [
    {
     "data": {
      "text/html": [
       "<div>\n",
       "<style scoped>\n",
       "    .dataframe tbody tr th:only-of-type {\n",
       "        vertical-align: middle;\n",
       "    }\n",
       "\n",
       "    .dataframe tbody tr th {\n",
       "        vertical-align: top;\n",
       "    }\n",
       "\n",
       "    .dataframe thead th {\n",
       "        text-align: right;\n",
       "    }\n",
       "</style>\n",
       "<table border=\"1\" class=\"dataframe\">\n",
       "  <thead>\n",
       "    <tr style=\"text-align: right;\">\n",
       "      <th></th>\n",
       "      <th>lottoNum</th>\n",
       "      <th>lottoX</th>\n",
       "      <th>lottoX1</th>\n",
       "      <th>lottoX2</th>\n",
       "      <th>lottoX3</th>\n",
       "      <th>lottoX4</th>\n",
       "      <th>lottoX5</th>\n",
       "      <th>lottoX6</th>\n",
       "      <th>lottoX7</th>\n",
       "      <th>lottoX8</th>\n",
       "      <th>lottoX9</th>\n",
       "      <th>Draw Schedule_Evening</th>\n",
       "      <th>Draw Schedule_Morning</th>\n",
       "    </tr>\n",
       "  </thead>\n",
       "  <tbody>\n",
       "    <tr>\n",
       "      <th>0</th>\n",
       "      <td>813</td>\n",
       "      <td>230</td>\n",
       "      <td>995</td>\n",
       "      <td>232</td>\n",
       "      <td>432</td>\n",
       "      <td>362</td>\n",
       "      <td>422</td>\n",
       "      <td>510</td>\n",
       "      <td>136</td>\n",
       "      <td>124</td>\n",
       "      <td>954</td>\n",
       "      <td>0</td>\n",
       "      <td>1</td>\n",
       "    </tr>\n",
       "    <tr>\n",
       "      <th>1</th>\n",
       "      <td>230</td>\n",
       "      <td>995</td>\n",
       "      <td>232</td>\n",
       "      <td>432</td>\n",
       "      <td>362</td>\n",
       "      <td>422</td>\n",
       "      <td>510</td>\n",
       "      <td>136</td>\n",
       "      <td>124</td>\n",
       "      <td>954</td>\n",
       "      <td>318</td>\n",
       "      <td>1</td>\n",
       "      <td>0</td>\n",
       "    </tr>\n",
       "    <tr>\n",
       "      <th>2</th>\n",
       "      <td>995</td>\n",
       "      <td>232</td>\n",
       "      <td>432</td>\n",
       "      <td>362</td>\n",
       "      <td>422</td>\n",
       "      <td>510</td>\n",
       "      <td>136</td>\n",
       "      <td>124</td>\n",
       "      <td>954</td>\n",
       "      <td>318</td>\n",
       "      <td>773</td>\n",
       "      <td>0</td>\n",
       "      <td>1</td>\n",
       "    </tr>\n",
       "    <tr>\n",
       "      <th>3</th>\n",
       "      <td>232</td>\n",
       "      <td>432</td>\n",
       "      <td>362</td>\n",
       "      <td>422</td>\n",
       "      <td>510</td>\n",
       "      <td>136</td>\n",
       "      <td>124</td>\n",
       "      <td>954</td>\n",
       "      <td>318</td>\n",
       "      <td>773</td>\n",
       "      <td>961</td>\n",
       "      <td>1</td>\n",
       "      <td>0</td>\n",
       "    </tr>\n",
       "    <tr>\n",
       "      <th>4</th>\n",
       "      <td>432</td>\n",
       "      <td>362</td>\n",
       "      <td>422</td>\n",
       "      <td>510</td>\n",
       "      <td>136</td>\n",
       "      <td>124</td>\n",
       "      <td>954</td>\n",
       "      <td>318</td>\n",
       "      <td>773</td>\n",
       "      <td>961</td>\n",
       "      <td>672</td>\n",
       "      <td>0</td>\n",
       "      <td>1</td>\n",
       "    </tr>\n",
       "  </tbody>\n",
       "</table>\n",
       "</div>"
      ],
      "text/plain": [
       "   lottoNum  lottoX  lottoX1  lottoX2  lottoX3  lottoX4  lottoX5  lottoX6  \\\n",
       "0       813     230      995      232      432      362      422      510   \n",
       "1       230     995      232      432      362      422      510      136   \n",
       "2       995     232      432      362      422      510      136      124   \n",
       "3       232     432      362      422      510      136      124      954   \n",
       "4       432     362      422      510      136      124      954      318   \n",
       "\n",
       "   lottoX7  lottoX8  lottoX9  Draw Schedule_Evening  Draw Schedule_Morning  \n",
       "0      136      124      954                      0                      1  \n",
       "1      124      954      318                      1                      0  \n",
       "2      954      318      773                      0                      1  \n",
       "3      318      773      961                      1                      0  \n",
       "4      773      961      672                      0                      1  "
      ]
     },
     "execution_count": 5,
     "metadata": {},
     "output_type": "execute_result"
    }
   ],
   "source": [
    "df2 = pd.get_dummies(datadf)\n",
    "df2.head()"
   ]
  },
  {
   "cell_type": "code",
   "execution_count": 7,
   "metadata": {},
   "outputs": [
    {
     "name": "stdout",
     "output_type": "stream",
     "text": [
      "(208, 12) (208, 1)\n"
     ]
    }
   ],
   "source": [
    "X = df2[['lottoX', 'lottoX1','lottoX2','lottoX3','lottoX4','lottoX5','lottoX6','lottoX7','lottoX8','lottoX9','Draw Schedule_Evening', 'Draw Schedule_Morning']]\n",
    "y = df2['lottoNum'].values.reshape(-1, 1)\n",
    "print(X.shape,y.shape)"
   ]
  },
  {
   "cell_type": "code",
   "execution_count": 8,
   "metadata": {},
   "outputs": [],
   "source": [
    "from sklearn.model_selection import train_test_split\n",
    "X_train, X_test, y_train, y_test = train_test_split(X, y, random_state=42)"
   ]
  },
  {
   "cell_type": "code",
   "execution_count": 9,
   "metadata": {},
   "outputs": [
    {
     "name": "stdout",
     "output_type": "stream",
     "text": [
      "(156, 12) (156, 1)\n"
     ]
    }
   ],
   "source": [
    "print(X_train.shape,y_train.shape)"
   ]
  },
  {
   "cell_type": "code",
   "execution_count": 10,
   "metadata": {},
   "outputs": [
    {
     "name": "stdout",
     "output_type": "stream",
     "text": [
      "(52, 12) (52, 1)\n"
     ]
    }
   ],
   "source": [
    "print(X_test.shape,y_test.shape)"
   ]
  },
  {
   "cell_type": "code",
   "execution_count": null,
   "metadata": {},
   "outputs": [],
   "source": [
    "# from sklearn.preprocessing import StandardScaler\n",
    "# Create a StandardScater model and fit it to the training data\n",
    "### BEGIN SOLUTION\n",
    "# X_scaler = StandardScaler().fit(X_train)\n",
    "# y_scaler = StandardScaler().fit(y_train)"
   ]
  },
  {
   "cell_type": "code",
   "execution_count": null,
   "metadata": {},
   "outputs": [],
   "source": [
    "# X_train_scaled = X_scaler.transform(X_train)\n",
    "# X_test_scaled = X_scaler.transform(X_test)\n",
    "# y_train_scaled = y_scaler.transform(y_train)\n",
    "# y_test_scaled = y_scaler.transform(y_test)"
   ]
  },
  {
   "cell_type": "code",
   "execution_count": 11,
   "metadata": {},
   "outputs": [
    {
     "data": {
      "text/plain": [
       "LinearRegression(copy_X=True, fit_intercept=True, n_jobs=None,\n",
       "         normalize=False)"
      ]
     },
     "execution_count": 11,
     "metadata": {},
     "output_type": "execute_result"
    }
   ],
   "source": [
    "from sklearn.linear_model import LinearRegression\n",
    "model = LinearRegression()\n",
    "model.fit(X_train, y_train)"
   ]
  },
  {
   "cell_type": "code",
   "execution_count": 12,
   "metadata": {},
   "outputs": [
    {
     "data": {
      "image/png": "[encoded data removed]",
      "text/plain": [
       "<Figure size 432x288 with 1 Axes>"
      ]
     },
     "metadata": {
      "needs_background": "light"
     },
     "output_type": "display_data"
    }
   ],
   "source": [
    "\n",
    "predictions = model.predict(X_test)\n",
    "model.fit(X_train, y_train)\n",
    "plt.scatter(model.predict(X_train), model.predict(X_train) - y_train, c=\"blue\", label=\"Training Data\")\n",
    "plt.scatter(model.predict(X_test), model.predict(X_test) - y_test, c=\"orange\", label=\"Testing Data\")\n",
    "plt.legend()\n",
    "plt.hlines(y=0, xmin=y_test.min(), xmax=y_test.max())\n",
    "plt.title(\"Residual Plot\")\n",
    "plt.show()"
   ]
  },
  {
   "cell_type": "code",
   "execution_count": 13,
   "metadata": {},
   "outputs": [
    {
     "name": "stdout",
     "output_type": "stream",
     "text": [
      "MSE: 92956.137292459, R2: -0.006684645148632651\n"
     ]
    }
   ],
   "source": [
    "from sklearn.metrics import mean_squared_error\n",
    "\n",
    "MSE = mean_squared_error(y_test, predictions)\n",
    "r2 = model.score(X_test, y_test)\n",
    "### END SOLUTION\n",
    "\n",
    "print(f\"MSE: {MSE}, R2: {r2}\")"
   ]
  },
  {
   "cell_type": "code",
   "execution_count": null,
   "metadata": {},
   "outputs": [],
   "source": [
    "NewPredict = model.predict([[781,0,1]])"
   ]
  },
  {
   "cell_type": "code",
   "execution_count": null,
   "metadata": {},
   "outputs": [],
   "source": [
    "NewPredict"
   ]
  },
  {
   "cell_type": "code",
   "execution_count": null,
   "metadata": {},
   "outputs": [],
   "source": [
    "from sklearn.linear_model import LinearRegression\n",
    "model = LinearRegression()\n",
    "model.fit(X, y)"
   ]
  },
  {
   "cell_type": "code",
   "execution_count": null,
   "metadata": {},
   "outputs": [],
   "source": [
    "NewPredict = model.predict([[781,0,1]])"
   ]
  },
  {
   "cell_type": "code",
   "execution_count": null,
   "metadata": {},
   "outputs": [],
   "source": [
    "NewPredict"
   ]
  },
  {
   "cell_type": "code",
   "execution_count": null,
   "metadata": {},
   "outputs": [],
   "source": []
  }
 ],
 "metadata": {
  "kernelspec": {
   "display_name": "Python 3",
   "language": "python",
   "name": "python3"
  },
  "language_info": {
   "codemirror_mode": {
    "name": "ipython",
    "version": 3
   },
   "file_extension": ".py",
   "mimetype": "text/x-python",
   "name": "python",
   "nbconvert_exporter": "python",
   "pygments_lexer": "ipython3",
   "version": "3.7.3"
  }
 },
 "nbformat": 4,
 "nbformat_minor": 2
}
