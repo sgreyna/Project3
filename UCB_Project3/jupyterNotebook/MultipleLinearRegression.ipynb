{
 "cells": [
  {
   "cell_type": "code",
   "execution_count": null,
   "metadata": {},
   "outputs": [],
   "source": [
    "%matplotlib inline\n",
    "import matplotlib.pyplot as plt\n",
    "import numpy as np"
   ]
  },
  {
   "cell_type": "code",
   "execution_count": null,
   "metadata": {},
   "outputs": [],
   "source": [
    "import pandas as pd\n",
    "from numpy import array\n",
    "#import dailyData\n",
    "datadf = pd.read_csv(\"dailyData/dailyData.csv\") "
   ]
  },
  {
   "cell_type": "code",
   "execution_count": null,
   "metadata": {
    "scrolled": true
   },
   "outputs": [],
   "source": [
    "datadf['lottoNum'] = datadf['First Number'].astype(str) +  datadf['Second Number'].astype(str) +  datadf['Third Number'].astype(str) \n",
    "datadf.head()"
   ]
  },
  {
   "cell_type": "code",
   "execution_count": null,
   "metadata": {},
   "outputs": [],
   "source": [
    "datadf['lottoX'] = datadf['lottoNum'].shift(-1)\n",
    "dataLotto = datadf[['lottoNum', 'lottoX']].astype(float)\n",
    "cleanData = dataLotto.dropna()\n",
    "cleanData.head()"
   ]
  },
  {
   "cell_type": "code",
   "execution_count": null,
   "metadata": {},
   "outputs": [],
   "source": [
    "\n",
    "def split_sequence(sequence, n_steps):\n",
    "    X, y = list(), list()\n",
    "    for i in range(len(sequence)):\n",
    "        # find the end of this pattern\n",
    "        end_ix = i + n_steps\n",
    "        # check if we are beyond the sequence\n",
    "        if end_ix > len(sequence)-1:\n",
    "            break\n",
    "        # gather input and output parts of the pattern\n",
    "        seq_x, seq_y = sequence[i:end_ix], sequence[end_ix]\n",
    "        X.append(seq_x)\n",
    "        y.append(seq_y)\n",
    "    return array(X), array(y)"
   ]
  },
  {
   "cell_type": "code",
   "execution_count": null,
   "metadata": {},
   "outputs": [],
   "source": [
    "# choose a number of time steps\n",
    "n_steps = 200\n",
    "# split into samples\n",
    "X, y = split_sequence(np.asarray(cleanData['lottoX']), n_steps)\n",
    "# reshape from [samples, timesteps] into [samples, timesteps, features]\n"
   ]
  },
  {
   "cell_type": "code",
   "execution_count": null,
   "metadata": {},
   "outputs": [],
   "source": [
    "print(\"Shape: \", X.shape, y.shape)"
   ]
  },
  {
   "cell_type": "code",
   "execution_count": null,
   "metadata": {},
   "outputs": [],
   "source": [
    "X"
   ]
  },
  {
   "cell_type": "code",
   "execution_count": null,
   "metadata": {},
   "outputs": [],
   "source": [
    "from mpl_toolkits.mplot3d import Axes3D\n",
    "fig = plt.figure(1, figsize=(5, 5))\n",
    "axes = Axes3D(fig, elev=20, azim=45)\n",
    "axes.scatter(X[:,0], X[:,1], X[:,2], c=y, cmap=plt.cm.get_cmap(\"Spectral\"))\n",
    "plt.show()"
   ]
  },
  {
   "cell_type": "code",
   "execution_count": null,
   "metadata": {},
   "outputs": [],
   "source": [
    "from sklearn.linear_model import LinearRegression\n",
    "model = LinearRegression()\n",
    "\n",
    "# Fitting our model with all of our features in X\n",
    "model.fit(X, y)\n",
    "\n",
    "score = model.score(X, y)\n",
    "print(f\"R2 Score: {score}\")"
   ]
  },
  {
   "cell_type": "code",
   "execution_count": null,
   "metadata": {
    "scrolled": true
   },
   "outputs": [],
   "source": [
    "newX = np.asarray(cleanData['lottoX'])\n",
    "newX = newX[-200:]\n",
    "newX"
   ]
  },
  {
   "cell_type": "code",
   "execution_count": null,
   "metadata": {},
   "outputs": [],
   "source": [
    "newX = newX.reshape(1, -1)\n",
    "newX"
   ]
  },
  {
   "cell_type": "code",
   "execution_count": null,
   "metadata": {},
   "outputs": [],
   "source": [
    "\n",
    "predictions = model.predict(newX)\n",
    "predictions\n",
    "# Plot Residuals\n",
    "#plt.scatter(predictions, predictions - y)\n",
    "#plt.hlines(y=0, xmin=predictions.min(), xmax=predictions.max())\n",
    "#plt.show()"
   ]
  },
  {
   "cell_type": "code",
   "execution_count": null,
   "metadata": {},
   "outputs": [],
   "source": [
    "import pickle\n",
    "#save model\n",
    "pkl_filename = \"pSKLearn_MultipleRegression_AP_R100_R000.pkl\"\n",
    "with open(pkl_filename, 'wb') as file:\n",
    "    pickle.dump(model, file)"
   ]
  },
  {
   "cell_type": "code",
   "execution_count": null,
   "metadata": {},
   "outputs": [],
   "source": [
    "# Load from file\n",
    "pkl_filename =pkl_filename\n",
    "with open(pkl_filename, 'rb') as file:\n",
    "    pickle_model = pickle.load(file)"
   ]
  },
  {
   "cell_type": "code",
   "execution_count": null,
   "metadata": {},
   "outputs": [],
   "source": [
    "from sklearn.model_selection import train_test_split\n",
    "\n",
    "X_train, X_test, y_train, y_test = train_test_split(X, y)\n",
    "model.fit(X_train, y_train)\n",
    "model.score(X_train, y_train)\n",
    "model.score(X_train, y_train)"
   ]
  },
  {
   "cell_type": "code",
   "execution_count": null,
   "metadata": {},
   "outputs": [],
   "source": [
    "# Calculate the accuracy score and predict target values\n",
    "score = pickle_model.score(X_test, y_test)\n",
    "print(\"Test score: {0:.2f} %\".format(100 * score))\n",
    "Ypredict = pickle_model.predict(X_test)"
   ]
  },
  {
   "cell_type": "code",
   "execution_count": null,
   "metadata": {},
   "outputs": [],
   "source": [
    "\n"
   ]
  },
  {
   "cell_type": "code",
   "execution_count": 2,
   "metadata": {},
   "outputs": [],
   "source": [
    "## Load saved model\n",
    "import pickle\n",
    "pkl_filename = \"MLModels/pSKLearn_MultipleRegression_AP_R100_R000.pkl\"\n",
    "with open(pkl_filename, 'rb') as file:\n",
    "    pickle_model = pickle.load(file)"
   ]
  },
  {
   "cell_type": "code",
   "execution_count": 3,
   "metadata": {},
   "outputs": [
    {
     "data": {
      "text/plain": [
       "array([[866., 184., 697., 452., 486.,  20., 296.,  54., 139., 682., 853.,\n",
       "        733., 339., 599., 588., 968., 959., 350., 855., 865., 591., 552.,\n",
       "        391., 127., 166., 215., 204., 114., 697., 856., 840., 595., 694.,\n",
       "        435., 551., 957., 157., 867., 349., 932., 427., 758., 761., 612.,\n",
       "        365.,  32., 224., 281., 213.,  84., 105., 723., 124., 378., 999.,\n",
       "         96., 510., 774., 323., 711., 519., 653., 105.,  57.,  98., 448.,\n",
       "        475., 762., 483., 449., 229., 185., 588., 672., 873., 437., 134.,\n",
       "        547., 324., 470.,  91., 440., 673., 801., 854.,  96., 620., 479.,\n",
       "        931., 457., 704., 762., 102., 987., 608., 710., 499., 540., 979.,\n",
       "        501., 288.,  30., 968., 123.,  61., 448., 190., 321., 553.,  55.,\n",
       "        436., 122., 369.,  10., 341., 847., 321., 111., 634., 277., 769.,\n",
       "        799., 313., 199., 792., 794., 688., 293.,  35., 220., 136., 738.,\n",
       "        676., 591.,  21., 145., 220., 703., 159., 995., 363.,  11., 392.,\n",
       "        849., 534., 607., 232., 328., 857., 842., 848., 303., 651., 994.,\n",
       "        973., 575., 902., 259., 857., 176.,  27.,   8.,  53., 100., 586.,\n",
       "        168., 552., 276., 694., 276., 442., 732., 857., 603., 476., 648.,\n",
       "        886., 938.,  83., 548., 788., 906., 903.,   6., 995., 382.,  75.,\n",
       "        478., 187., 485., 363.,  15., 299., 876.,  66., 631., 117., 519.,\n",
       "        461., 781.]])"
      ]
     },
     "execution_count": 3,
     "metadata": {},
     "output_type": "execute_result"
    }
   ],
   "source": [
    "import pandas as pd\n",
    "import numpy as np\n",
    "from numpy import array\n",
    "#import dailyData\n",
    "datadf = pd.read_csv(\"dailyData/dailyData.csv\") \n",
    "datadf['lottoX'] = datadf['First Number'].astype(str) +  datadf['Second Number'].astype(str) +  datadf['Third Number'].astype(str) \n",
    "dataLotto = datadf[['lottoX']].astype(float)\n",
    "newX = np.asarray(dataLotto['lottoX'])\n",
    "newX = newX[-200:]\n",
    "newX = newX.reshape(1, -1)\n",
    "newX"
   ]
  },
  {
   "cell_type": "code",
   "execution_count": 4,
   "metadata": {},
   "outputs": [],
   "source": [
    "# predict target values\n",
    "Ypredict = pickle_model.predict(newX)"
   ]
  },
  {
   "cell_type": "code",
   "execution_count": 9,
   "metadata": {},
   "outputs": [],
   "source": [
    "Ypredict = int(np.round(Ypredict,0))"
   ]
  },
  {
   "cell_type": "code",
   "execution_count": 17,
   "metadata": {},
   "outputs": [],
   "source": [
    "Ypredict = str(Ypredict)"
   ]
  },
  {
   "cell_type": "code",
   "execution_count": 21,
   "metadata": {},
   "outputs": [
    {
     "data": {
      "text/plain": [
       "6"
      ]
     },
     "execution_count": 21,
     "metadata": {},
     "output_type": "execute_result"
    }
   ],
   "source": [
    "int(Ypredict[2])"
   ]
  },
  {
   "cell_type": "code",
   "execution_count": null,
   "metadata": {},
   "outputs": [],
   "source": []
  }
 ],
 "metadata": {
  "kernelspec": {
   "display_name": "Python 3",
   "language": "python",
   "name": "python3"
  },
  "language_info": {
   "codemirror_mode": {
    "name": "ipython",
    "version": 3
   },
   "file_extension": ".py",
   "mimetype": "text/x-python",
   "name": "python",
   "nbconvert_exporter": "python",
   "pygments_lexer": "ipython3",
   "version": "3.7.3"
  }
 },
 "nbformat": 4,
 "nbformat_minor": 2
}
